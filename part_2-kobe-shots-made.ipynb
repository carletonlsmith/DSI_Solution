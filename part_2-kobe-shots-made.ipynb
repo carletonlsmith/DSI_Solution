{
 "cells": [
  {
   "cell_type": "markdown",
   "metadata": {},
   "source": [
    "<img src=\"http://imgur.com/1ZcRyrc.png\" style=\"float: left; margin: 20px; height: 55px\">\n",
    "\n",
    "\n",
    "# Predicting Shots Made Per Game by Kobe Bryant\n",
    "\n",
    "_Authors: Kiefer Katovich (SF)_\n",
    "\n",
    "---\n",
    "\n",
    "In this lab you'll be using regularized regression penalties — ridge, lasso, and elastic net — to try and predict how many shots Kobe Bryant made per game during his career.\n",
    "\n",
    "The Kobe Shots data set contains hundreds of columns representing different characteristics of each basketball game. Fitting an ordinary linear regression using every predictor would dramatically overfit the model, considering the limited number of observations (games) we have available. Plus, many of the predictors have significant multicollinearity. \n",
    "\n",
    "\n",
    "**Warning:** Some of these calculations are computationally expensive and may take a while to execute. It may be worthwhile to only use a portion of the data to perform these calculations, especially if you've experienced kernel issues in the past.\n",
    "\n",
    "---\n",
    "\n",
    "### 1) Load packages and data."
   ]
  },
  {
   "cell_type": "markdown",
   "metadata": {},
   "source": [
    "BUT FIRST!  What exactly are these beta coeffcients we keep talking about? \n",
    "\n",
    "Beta coefficients in linear and logistic regression (which we learn about next week) is the value or measure of how strongly each predictor variable (each feature in the model) influences the dependent variable (your target/y variable).\n",
    "\n"
   ]
  },
  {
   "cell_type": "code",
   "execution_count": 1,
   "metadata": {
    "collapsed": true
   },
   "outputs": [],
   "source": [
    "import numpy as np\n",
    "import pandas as pd\n",
    "\n",
    "\n",
    "from sklearn.linear_model import Ridge, Lasso, ElasticNet, LinearRegression, RidgeCV, LassoCV, ElasticNetCV\n",
    "from sklearn.model_selection import cross_val_score\n",
    "\n",
    "import matplotlib.pyplot as plt\n",
    "import seaborn as sns\n",
    "%matplotlib inline"
   ]
  },
  {
   "cell_type": "code",
   "execution_count": 2,
   "metadata": {
    "collapsed": true
   },
   "outputs": [],
   "source": [
    "kobe = pd.read_csv('./datasets/kobe_superwide_games.csv')"
   ]
  },
  {
   "cell_type": "markdown",
   "metadata": {},
   "source": [
    "---\n",
    "\n",
    "### 2) Examine the data.\n",
    "\n",
    "- How many columns are there?\n",
    "- Examine what the observations (rows) and columns represent.\n",
    "- Why might regularization be particularly useful for modeling this data?"
   ]
  },
  {
   "cell_type": "code",
   "execution_count": 3,
   "metadata": {},
   "outputs": [
    {
     "name": "stdout",
     "output_type": "stream",
     "text": [
      "Columns: 645\n"
     ]
    }
   ],
   "source": [
    "print('Columns:', len(kobe.columns))"
   ]
  },
  {
   "cell_type": "code",
   "execution_count": 4,
   "metadata": {},
   "outputs": [
    {
     "data": {
      "text/plain": [
       "(1558, 645)"
      ]
     },
     "execution_count": 4,
     "metadata": {},
     "output_type": "execute_result"
    }
   ],
   "source": [
    "kobe.shape"
   ]
  },
  {
   "cell_type": "markdown",
   "metadata": {},
   "source": [
    "---\n",
    "\n",
    "### 3) Create predictor and target variables. Standardize the predictors.\n",
    "\n",
    "Why is normalization necessary for regularized regressions?\n",
    "\n",
    "Use the `sklearn.preprocessing` class `StandardScaler` to standardize the predictors."
   ]
  },
  {
   "cell_type": "code",
   "execution_count": 5,
   "metadata": {},
   "outputs": [
    {
     "name": "stdout",
     "output_type": "stream",
     "text": [
      "Index(['SHOTS_MADE', 'AWAY_GAME', 'SEASON_OPPONENT:atl:1996-97',\n",
      "       'SEASON_OPPONENT:atl:1997-98', 'SEASON_OPPONENT:atl:1999-00',\n",
      "       'SEASON_OPPONENT:atl:2000-01', 'SEASON_OPPONENT:atl:2001-02',\n",
      "       'SEASON_OPPONENT:atl:2002-03', 'SEASON_OPPONENT:atl:2003-04',\n",
      "       'SEASON_OPPONENT:atl:2004-05', 'SEASON_OPPONENT:atl:2005-06',\n",
      "       'SEASON_OPPONENT:atl:2006-07', 'SEASON_OPPONENT:atl:2007-08',\n",
      "       'SEASON_OPPONENT:atl:2008-09', 'SEASON_OPPONENT:atl:2009-10',\n",
      "       'SEASON_OPPONENT:atl:2010-11', 'SEASON_OPPONENT:atl:2011-12',\n",
      "       'SEASON_OPPONENT:atl:2012-13', 'SEASON_OPPONENT:atl:2013-14',\n",
      "       'SEASON_OPPONENT:atl:2014-15'],\n",
      "      dtype='object')\n"
     ]
    }
   ],
   "source": [
    "print(kobe.columns[0:20])\n",
    "\n",
    "# The columns contain various statistics for each game. \n",
    "# There is a column SHOTS_MADE that will be our target variable for prediction.\n",
    "# This is good for regularization because there are so many columns (feature selection)\n",
    "# and many of the columns represent similar things (multicollinearity)"
   ]
  },
  {
   "cell_type": "code",
   "execution_count": 6,
   "metadata": {
    "collapsed": true
   },
   "outputs": [],
   "source": [
    "y = kobe.SHOTS_MADE.values    \n",
    "X = kobe.iloc[:,1:]\n",
    "\n",
    "# Initialize the StandardScaler object.\n",
    "from sklearn.preprocessing import StandardScaler\n",
    "\n",
    "ss = StandardScaler()\n",
    "\n",
    "# Use the \"fit_transform\" function to standardize the X design matrix.\n",
    "Xs = ss.fit_transform(X)\n",
    "\n",
    "# Standardization is necessary for regularized regression because the beta\n",
    "# values for each predictor variable must be on the same scale. If betas\n",
    "# are only different sizes because of the scale of predictor variables,\n",
    "# the regularization term can't determine which betas are more/less \n",
    "# important based on their size."
   ]
  },
  {
   "cell_type": "markdown",
   "metadata": {},
   "source": [
    "---\n",
    "\n",
    "### 4. Build a linear regression predicting `SHOTS_MADE` from the rest of the columns.\n",
    "\n",
    "Cross-validate the $R^2$ of an ordinary linear regression model with 10 cross-validation folds.\n",
    "\n",
    "How does it perform?"
   ]
  },
  {
   "cell_type": "code",
   "execution_count": 7,
   "metadata": {},
   "outputs": [
    {
     "name": "stdout",
     "output_type": "stream",
     "text": [
      "[ -1.72613407e+29  -3.90952389e+28  -1.94599989e+28  -1.91132340e+28\n",
      "  -1.26335670e+28  -9.09558160e+27  -6.77796170e+27  -1.26373928e+28\n",
      "  -2.27342858e+28  -4.70307387e+28]\n",
      "-3.61191406917e+28\n"
     ]
    }
   ],
   "source": [
    "lr = LinearRegression()\n",
    "\n",
    "lr_scores = cross_val_score(lr, Xs, y, cv=10)\n",
    "\n",
    "print(lr_scores)\n",
    "print(np.mean(lr_scores))"
   ]
  },
  {
   "cell_type": "code",
   "execution_count": 8,
   "metadata": {
    "collapsed": true
   },
   "outputs": [],
   "source": [
    "# The mean R^2 is extremely negative. All of the R^2 scores are negative in cross-validation.# The m \n",
    "# The linear regression is performing far worse than the baseline on the testing sets.\n",
    "# It's probably dramatically overfitting, and the redundant variables are affecting\n",
    "# the coefficients in unusual ways."
   ]
  },
  {
   "cell_type": "markdown",
   "metadata": {},
   "source": [
    "---\n",
    "\n",
    "### 5) Find an optimal value for the ridge regression alpha using `RidgeCV`.\n",
    "\n",
    "Go to the documentation and [read how RidgeCV works](http://scikit-learn.org/stable/modules/generated/sklearn.linear_model.RidgeCV.html).\n",
    "\n",
    "> *Hint: Once the RidgeCV is fit, the attribute `.alpha_` contains the best alpha parameter it found through cross-validation.*\n",
    "\n",
    "Recall that ridge performs best when searching alphas through logarithmic space (`np.logspace`). This may take awhile to fit.\n"
   ]
  },
  {
   "cell_type": "code",
   "execution_count": 9,
   "metadata": {},
   "outputs": [
    {
     "name": "stdout",
     "output_type": "stream",
     "text": [
      "CPU times: user 5 µs, sys: 1 µs, total: 6 µs\n",
      "Wall time: 10.7 µs\n",
      "599.484250319\n"
     ]
    }
   ],
   "source": [
    "%time\n",
    "ridge_alphas = np.logspace(0, 5, 100)\n",
    "\n",
    "optimal_ridge = RidgeCV(alphas=ridge_alphas, cv=5)\n",
    "optimal_ridge.fit(Xs, y)\n",
    "\n",
    "print(optimal_ridge.alpha_)"
   ]
  },
  {
   "cell_type": "markdown",
   "metadata": {},
   "source": [
    "---\n",
    "\n",
    "### 6) Cross-validate the ridge regression $R^2$ with the optimal alpha.\n",
    "\n",
    "Is it better than the linear regression? If so, why might this be?"
   ]
  },
  {
   "cell_type": "code",
   "execution_count": 10,
   "metadata": {},
   "outputs": [
    {
     "name": "stdout",
     "output_type": "stream",
     "text": [
      "[ 0.60354951  0.53005223  0.48600605  0.58938973  0.51686265  0.52833247\n",
      "  0.52790845  0.40875612  0.38700321  0.43969737]\n",
      "0.501755780272\n"
     ]
    }
   ],
   "source": [
    "ridge = Ridge(alpha=optimal_ridge.alpha_)\n",
    "\n",
    "ridge_scores = cross_val_score(ridge, Xs, y, cv=10)\n",
    "\n",
    "print(ridge_scores)\n",
    "print(np.mean(ridge_scores))"
   ]
  },
  {
   "cell_type": "code",
   "execution_count": 20,
   "metadata": {
    "collapsed": true
   },
   "outputs": [],
   "source": [
    "# It's vastly better than the linear regression. \n",
    "# There's likely so much multicollinearity in the data that linear regression\n",
    "# overfits and has bogus coefficients on predictors. Ridge is \n",
    "# able to manage the multicollinearity and get a good out-of-sample result."
   ]
  },
  {
   "cell_type": "code",
   "execution_count": 50,
   "metadata": {
    "scrolled": true
   },
   "outputs": [
    {
     "data": {
      "text/plain": [
       "Ridge(alpha=599.48425031894089, copy_X=True, fit_intercept=True,\n",
       "   max_iter=None, normalize=False, random_state=None, solver='auto',\n",
       "   tol=0.001)"
      ]
     },
     "execution_count": 50,
     "metadata": {},
     "output_type": "execute_result"
    }
   ],
   "source": [
    "ridge.fit(Xs, y)"
   ]
  },
  {
   "cell_type": "code",
   "execution_count": 54,
   "metadata": {},
   "outputs": [
    {
     "data": {
      "text/html": [
       "<div>\n",
       "<style scoped>\n",
       "    .dataframe tbody tr th:only-of-type {\n",
       "        vertical-align: middle;\n",
       "    }\n",
       "\n",
       "    .dataframe tbody tr th {\n",
       "        vertical-align: top;\n",
       "    }\n",
       "\n",
       "    .dataframe thead th {\n",
       "        text-align: right;\n",
       "    }\n",
       "</style>\n",
       "<table border=\"1\" class=\"dataframe\">\n",
       "  <thead>\n",
       "    <tr style=\"text-align: right;\">\n",
       "      <th></th>\n",
       "      <th>abs_coef</th>\n",
       "      <th>coef</th>\n",
       "      <th>variable</th>\n",
       "    </tr>\n",
       "  </thead>\n",
       "  <tbody>\n",
       "    <tr>\n",
       "      <th>574</th>\n",
       "      <td>0.278986</td>\n",
       "      <td>0.278986</td>\n",
       "      <td>SHOT_TYPE:2pt_field_goal</td>\n",
       "    </tr>\n",
       "    <tr>\n",
       "      <th>579</th>\n",
       "      <td>0.264177</td>\n",
       "      <td>0.264177</td>\n",
       "      <td>COMBINED_SHOT_TYPE:jump_shot</td>\n",
       "    </tr>\n",
       "    <tr>\n",
       "      <th>569</th>\n",
       "      <td>0.261213</td>\n",
       "      <td>0.261213</td>\n",
       "      <td>SHOT_ZONE_AREA:center(c)</td>\n",
       "    </tr>\n",
       "    <tr>\n",
       "      <th>556</th>\n",
       "      <td>0.237277</td>\n",
       "      <td>0.237277</td>\n",
       "      <td>SHOT_ZONE_RANGE:16-24_ft.</td>\n",
       "    </tr>\n",
       "    <tr>\n",
       "      <th>577</th>\n",
       "      <td>0.232823</td>\n",
       "      <td>0.232823</td>\n",
       "      <td>COMBINED_SHOT_TYPE:dunk</td>\n",
       "    </tr>\n",
       "    <tr>\n",
       "      <th>582</th>\n",
       "      <td>0.227098</td>\n",
       "      <td>0.227098</td>\n",
       "      <td>SECONDS_REMAINING</td>\n",
       "    </tr>\n",
       "    <tr>\n",
       "      <th>584</th>\n",
       "      <td>0.223821</td>\n",
       "      <td>0.223821</td>\n",
       "      <td>PERIOD</td>\n",
       "    </tr>\n",
       "    <tr>\n",
       "      <th>566</th>\n",
       "      <td>0.220295</td>\n",
       "      <td>0.220295</td>\n",
       "      <td>SHOT_ZONE_BASIC:restricted_area</td>\n",
       "    </tr>\n",
       "    <tr>\n",
       "      <th>565</th>\n",
       "      <td>0.218809</td>\n",
       "      <td>0.218809</td>\n",
       "      <td>SHOT_ZONE_BASIC:mid-range</td>\n",
       "    </tr>\n",
       "    <tr>\n",
       "      <th>573</th>\n",
       "      <td>0.180409</td>\n",
       "      <td>0.180409</td>\n",
       "      <td>SHOT_ZONE_AREA:right_side(r)</td>\n",
       "    </tr>\n",
       "  </tbody>\n",
       "</table>\n",
       "</div>"
      ],
      "text/plain": [
       "     abs_coef      coef                         variable\n",
       "574  0.278986  0.278986         SHOT_TYPE:2pt_field_goal\n",
       "579  0.264177  0.264177     COMBINED_SHOT_TYPE:jump_shot\n",
       "569  0.261213  0.261213         SHOT_ZONE_AREA:center(c)\n",
       "556  0.237277  0.237277        SHOT_ZONE_RANGE:16-24_ft.\n",
       "577  0.232823  0.232823          COMBINED_SHOT_TYPE:dunk\n",
       "582  0.227098  0.227098                SECONDS_REMAINING\n",
       "584  0.223821  0.223821                           PERIOD\n",
       "566  0.220295  0.220295  SHOT_ZONE_BASIC:restricted_area\n",
       "565  0.218809  0.218809        SHOT_ZONE_BASIC:mid-range\n",
       "573  0.180409  0.180409     SHOT_ZONE_AREA:right_side(r)"
      ]
     },
     "execution_count": 54,
     "metadata": {},
     "output_type": "execute_result"
    }
   ],
   "source": [
    "ridge.fit(Xs, y)\n",
    "\n",
    "ridge_coefs = pd.DataFrame({'variable':X.columns,\n",
    "                            'coef':ridge.coef_,\n",
    "                            'abs_coef': abs(ridge.coef_)})\n",
    "\n",
    "ridge_coefs.sort_values('abs_coef', inplace=True, ascending=False)\n",
    "\n",
    "ridge_coefs.head(10)"
   ]
  },
  {
   "cell_type": "markdown",
   "metadata": {},
   "source": [
    "---\n",
    "\n",
    "### 7) Find an optimal value for lasso regression alpha using `LassoCV`.\n",
    "\n",
    "Go to the documentation and [read how LassoCV works](http://scikit-learn.org/stable/modules/generated/sklearn.linear_model.LassoCV.html). It is very similar to `RidgeCV`.\n",
    "\n",
    "> *Hint: Again, once the `LassoCV` is fit, the attribute `.alpha_` contains the best alpha parameter it found through cross-validation.*\n",
    "\n",
    "Recall that lasso, unlike ridge, performs best when searching for alpha through linear space (`np.linspace`). However, you can actually let the LassoCV decide what alphas to use itself by setting the keyword argument `n_alphas=` to however many alphas you want it to search over. We recommend letting scikit-learn choose the range of alphas.\n",
    "\n",
    "_**Tip:** If you find your CV taking a long time and you're not sure if it's working, set `verbose =1`._"
   ]
  },
  {
   "cell_type": "code",
   "execution_count": 40,
   "metadata": {},
   "outputs": [
    {
     "name": "stdout",
     "output_type": "stream",
     "text": [
      "CPU times: user 5 µs, sys: 1e+03 ns, total: 6 µs\n",
      "Wall time: 11 µs\n",
      "0.0576483925252\n"
     ]
    }
   ],
   "source": [
    "%time\n",
    "optimal_lasso = LassoCV(n_alphas=200, cv=5)\n",
    "optimal_lasso.fit(Xs, y)\n",
    "\n",
    "print(optimal_lasso.alpha_)"
   ]
  },
  {
   "cell_type": "markdown",
   "metadata": {},
   "source": [
    "---\n",
    "\n",
    "### 8) Cross-validate the lasso $R^2$ with the optimal alpha.\n",
    "\n",
    "Is it better than the linear regression? Is it better than ridge? What do the differences in results imply about the issues with the data set?"
   ]
  },
  {
   "cell_type": "code",
   "execution_count": 41,
   "metadata": {},
   "outputs": [
    {
     "name": "stdout",
     "output_type": "stream",
     "text": [
      "[ 0.62297435  0.52601665  0.53757036  0.61520994  0.54344862  0.55467151\n",
      "  0.53063549  0.44706724  0.46407576  0.50949776]\n",
      "0.535116768642\n"
     ]
    }
   ],
   "source": [
    "lasso = Lasso(alpha=optimal_lasso.alpha_)\n",
    "\n",
    "lasso_scores = cross_val_score(lasso, Xs, y, cv=10)\n",
    "\n",
    "print(lasso_scores)\n",
    "print(np.mean(lasso_scores))"
   ]
  },
  {
   "cell_type": "code",
   "execution_count": 24,
   "metadata": {
    "collapsed": true
   },
   "outputs": [],
   "source": [
    "# The lasso performs similarly but slightly better than the ridge.\n",
    "# Lasso deals primarily with the feature selection of valuable variables,\n",
    "# eliminating ones that aren't useful. This also takes care of multicollinearity,\n",
    "# but in a different way: It'll choose the \"best\" of the correlated variables\n",
    "# and zero out the redundant ones.\n",
    "# There may also be useless variables in the data, which it simply gets rid\n",
    "# of entirely."
   ]
  },
  {
   "cell_type": "markdown",
   "metadata": {},
   "source": [
    "---\n",
    "\n",
    "### 9) Look at the coefficients for variables in the lasso.\n",
    "\n",
    "1. Show the coefficient for variables, ordered from largest to smallest coefficient by absolute value.\n",
    "2. What percent of the variables in the original data set are \"zeroed-out\" by the lasso?\n",
    "3. What are the most important predictors for how many shots Kobe made in a game?\n",
    "\n",
    "> **Note:** If you only fit the lasso within `cross_val_score`, you'll have to refit it outside of that function to pull out the coefficients."
   ]
  },
  {
   "cell_type": "code",
   "execution_count": 43,
   "metadata": {},
   "outputs": [
    {
     "data": {
      "text/plain": [
       "Lasso(alpha=0.057648392525239053, copy_X=True, fit_intercept=True,\n",
       "   max_iter=1000, normalize=False, positive=False, precompute=False,\n",
       "   random_state=None, selection='cyclic', tol=0.0001, warm_start=False)"
      ]
     },
     "execution_count": 43,
     "metadata": {},
     "output_type": "execute_result"
    }
   ],
   "source": [
    "lasso.fit(Xs, y)"
   ]
  },
  {
   "cell_type": "code",
   "execution_count": 49,
   "metadata": {},
   "outputs": [
    {
     "data": {
      "text/html": [
       "<div>\n",
       "<style scoped>\n",
       "    .dataframe tbody tr th:only-of-type {\n",
       "        vertical-align: middle;\n",
       "    }\n",
       "\n",
       "    .dataframe tbody tr th {\n",
       "        vertical-align: top;\n",
       "    }\n",
       "\n",
       "    .dataframe thead th {\n",
       "        text-align: right;\n",
       "    }\n",
       "</style>\n",
       "<table border=\"1\" class=\"dataframe\">\n",
       "  <thead>\n",
       "    <tr style=\"text-align: right;\">\n",
       "      <th></th>\n",
       "      <th>abs_coef</th>\n",
       "      <th>coef</th>\n",
       "      <th>variable</th>\n",
       "    </tr>\n",
       "  </thead>\n",
       "  <tbody>\n",
       "    <tr>\n",
       "      <th>579</th>\n",
       "      <td>1.262795</td>\n",
       "      <td>1.262795</td>\n",
       "      <td>COMBINED_SHOT_TYPE:jump_shot</td>\n",
       "    </tr>\n",
       "    <tr>\n",
       "      <th>574</th>\n",
       "      <td>0.832759</td>\n",
       "      <td>0.832759</td>\n",
       "      <td>SHOT_TYPE:2pt_field_goal</td>\n",
       "    </tr>\n",
       "    <tr>\n",
       "      <th>566</th>\n",
       "      <td>0.467598</td>\n",
       "      <td>0.467598</td>\n",
       "      <td>SHOT_ZONE_BASIC:restricted_area</td>\n",
       "    </tr>\n",
       "    <tr>\n",
       "      <th>611</th>\n",
       "      <td>0.282456</td>\n",
       "      <td>-0.282456</td>\n",
       "      <td>ACTION_TYPE:jump_shot</td>\n",
       "    </tr>\n",
       "    <tr>\n",
       "      <th>577</th>\n",
       "      <td>0.278330</td>\n",
       "      <td>0.278330</td>\n",
       "      <td>COMBINED_SHOT_TYPE:dunk</td>\n",
       "    </tr>\n",
       "    <tr>\n",
       "      <th>575</th>\n",
       "      <td>0.139793</td>\n",
       "      <td>0.139793</td>\n",
       "      <td>SHOT_TYPE:3pt_field_goal</td>\n",
       "    </tr>\n",
       "    <tr>\n",
       "      <th>612</th>\n",
       "      <td>0.139640</td>\n",
       "      <td>-0.139640</td>\n",
       "      <td>ACTION_TYPE:layup_shot</td>\n",
       "    </tr>\n",
       "    <tr>\n",
       "      <th>423</th>\n",
       "      <td>0.139575</td>\n",
       "      <td>0.139575</td>\n",
       "      <td>SEASON_OPPONENT:sac:1999-00</td>\n",
       "    </tr>\n",
       "    <tr>\n",
       "      <th>233</th>\n",
       "      <td>0.126999</td>\n",
       "      <td>0.126999</td>\n",
       "      <td>SEASON_OPPONENT:mem:2009-10</td>\n",
       "    </tr>\n",
       "    <tr>\n",
       "      <th>549</th>\n",
       "      <td>0.124477</td>\n",
       "      <td>-0.124477</td>\n",
       "      <td>SEASON:2015-16</td>\n",
       "    </tr>\n",
       "    <tr>\n",
       "      <th>582</th>\n",
       "      <td>0.121452</td>\n",
       "      <td>0.121452</td>\n",
       "      <td>SECONDS_REMAINING</td>\n",
       "    </tr>\n",
       "    <tr>\n",
       "      <th>333</th>\n",
       "      <td>0.119605</td>\n",
       "      <td>0.119605</td>\n",
       "      <td>SEASON_OPPONENT:nyk:2008-09</td>\n",
       "    </tr>\n",
       "    <tr>\n",
       "      <th>561</th>\n",
       "      <td>0.119385</td>\n",
       "      <td>0.119385</td>\n",
       "      <td>SHOT_ZONE_BASIC:above_the_break_3</td>\n",
       "    </tr>\n",
       "    <tr>\n",
       "      <th>395</th>\n",
       "      <td>0.107130</td>\n",
       "      <td>0.107130</td>\n",
       "      <td>SEASON_OPPONENT:phx:2009-10</td>\n",
       "    </tr>\n",
       "    <tr>\n",
       "      <th>466</th>\n",
       "      <td>0.104146</td>\n",
       "      <td>0.104146</td>\n",
       "      <td>SEASON_OPPONENT:sea:2004-05</td>\n",
       "    </tr>\n",
       "    <tr>\n",
       "      <th>569</th>\n",
       "      <td>0.103135</td>\n",
       "      <td>0.103135</td>\n",
       "      <td>SHOT_ZONE_AREA:center(c)</td>\n",
       "    </tr>\n",
       "    <tr>\n",
       "      <th>594</th>\n",
       "      <td>0.102962</td>\n",
       "      <td>-0.102962</td>\n",
       "      <td>ACTION_TYPE:driving_floating_jump_shot</td>\n",
       "    </tr>\n",
       "    <tr>\n",
       "      <th>38</th>\n",
       "      <td>0.099189</td>\n",
       "      <td>-0.099189</td>\n",
       "      <td>SEASON_OPPONENT:bos:2015-16</td>\n",
       "    </tr>\n",
       "    <tr>\n",
       "      <th>556</th>\n",
       "      <td>0.096413</td>\n",
       "      <td>0.096413</td>\n",
       "      <td>SHOT_ZONE_RANGE:16-24_ft.</td>\n",
       "    </tr>\n",
       "    <tr>\n",
       "      <th>456</th>\n",
       "      <td>0.084225</td>\n",
       "      <td>-0.084225</td>\n",
       "      <td>SEASON_OPPONENT:sas:2014-15</td>\n",
       "    </tr>\n",
       "    <tr>\n",
       "      <th>134</th>\n",
       "      <td>0.081115</td>\n",
       "      <td>0.081115</td>\n",
       "      <td>SEASON_OPPONENT:det:2000-01</td>\n",
       "    </tr>\n",
       "    <tr>\n",
       "      <th>26</th>\n",
       "      <td>0.078682</td>\n",
       "      <td>-0.078682</td>\n",
       "      <td>SEASON_OPPONENT:bos:2002-03</td>\n",
       "    </tr>\n",
       "    <tr>\n",
       "      <th>397</th>\n",
       "      <td>0.076795</td>\n",
       "      <td>0.076795</td>\n",
       "      <td>SEASON_OPPONENT:phx:2011-12</td>\n",
       "    </tr>\n",
       "    <tr>\n",
       "      <th>548</th>\n",
       "      <td>0.075944</td>\n",
       "      <td>-0.075944</td>\n",
       "      <td>SEASON:2014-15</td>\n",
       "    </tr>\n",
       "    <tr>\n",
       "      <th>154</th>\n",
       "      <td>0.073424</td>\n",
       "      <td>0.073424</td>\n",
       "      <td>SEASON_OPPONENT:gsw:2001-02</td>\n",
       "    </tr>\n",
       "    <tr>\n",
       "      <th>618</th>\n",
       "      <td>0.072698</td>\n",
       "      <td>0.072698</td>\n",
       "      <td>ACTION_TYPE:reverse_dunk_shot</td>\n",
       "    </tr>\n",
       "    <tr>\n",
       "      <th>299</th>\n",
       "      <td>0.067646</td>\n",
       "      <td>-0.067646</td>\n",
       "      <td>SEASON_OPPONENT:njn:2002-03</td>\n",
       "    </tr>\n",
       "    <tr>\n",
       "      <th>186</th>\n",
       "      <td>0.065932</td>\n",
       "      <td>0.065932</td>\n",
       "      <td>SEASON_OPPONENT:hou:2015-16</td>\n",
       "    </tr>\n",
       "    <tr>\n",
       "      <th>143</th>\n",
       "      <td>0.065213</td>\n",
       "      <td>0.065213</td>\n",
       "      <td>SEASON_OPPONENT:det:2009-10</td>\n",
       "    </tr>\n",
       "    <tr>\n",
       "      <th>609</th>\n",
       "      <td>0.064126</td>\n",
       "      <td>0.064126</td>\n",
       "      <td>ACTION_TYPE:jump_bank_shot</td>\n",
       "    </tr>\n",
       "    <tr>\n",
       "      <th>...</th>\n",
       "      <td>...</td>\n",
       "      <td>...</td>\n",
       "      <td>...</td>\n",
       "    </tr>\n",
       "    <tr>\n",
       "      <th>314</th>\n",
       "      <td>0.032073</td>\n",
       "      <td>-0.032073</td>\n",
       "      <td>SEASON_OPPONENT:noh:2011-12</td>\n",
       "    </tr>\n",
       "    <tr>\n",
       "      <th>307</th>\n",
       "      <td>0.031051</td>\n",
       "      <td>0.031051</td>\n",
       "      <td>SEASON_OPPONENT:njn:2011-12</td>\n",
       "    </tr>\n",
       "    <tr>\n",
       "      <th>285</th>\n",
       "      <td>0.030787</td>\n",
       "      <td>0.030787</td>\n",
       "      <td>SEASON_OPPONENT:min:2006-07</td>\n",
       "    </tr>\n",
       "    <tr>\n",
       "      <th>205</th>\n",
       "      <td>0.030711</td>\n",
       "      <td>-0.030711</td>\n",
       "      <td>SEASON_OPPONENT:ind:2015-16</td>\n",
       "    </tr>\n",
       "    <tr>\n",
       "      <th>201</th>\n",
       "      <td>0.030649</td>\n",
       "      <td>0.030649</td>\n",
       "      <td>SEASON_OPPONENT:ind:2010-11</td>\n",
       "    </tr>\n",
       "    <tr>\n",
       "      <th>541</th>\n",
       "      <td>0.030373</td>\n",
       "      <td>0.030373</td>\n",
       "      <td>SEASON:2007-08</td>\n",
       "    </tr>\n",
       "    <tr>\n",
       "      <th>531</th>\n",
       "      <td>0.029430</td>\n",
       "      <td>-0.029430</td>\n",
       "      <td>SEASON:1997-98</td>\n",
       "    </tr>\n",
       "    <tr>\n",
       "      <th>625</th>\n",
       "      <td>0.029309</td>\n",
       "      <td>0.029309</td>\n",
       "      <td>ACTION_TYPE:running_hook_shot</td>\n",
       "    </tr>\n",
       "    <tr>\n",
       "      <th>213</th>\n",
       "      <td>0.029160</td>\n",
       "      <td>0.029160</td>\n",
       "      <td>SEASON_OPPONENT:lac:2003-04</td>\n",
       "    </tr>\n",
       "    <tr>\n",
       "      <th>322</th>\n",
       "      <td>0.028862</td>\n",
       "      <td>-0.028862</td>\n",
       "      <td>SEASON_OPPONENT:nyk:1997-98</td>\n",
       "    </tr>\n",
       "    <tr>\n",
       "      <th>453</th>\n",
       "      <td>0.028632</td>\n",
       "      <td>-0.028632</td>\n",
       "      <td>SEASON_OPPONENT:sas:2010-11</td>\n",
       "    </tr>\n",
       "    <tr>\n",
       "      <th>137</th>\n",
       "      <td>0.028124</td>\n",
       "      <td>-0.028124</td>\n",
       "      <td>SEASON_OPPONENT:det:2003-04</td>\n",
       "    </tr>\n",
       "    <tr>\n",
       "      <th>304</th>\n",
       "      <td>0.028051</td>\n",
       "      <td>-0.028051</td>\n",
       "      <td>SEASON_OPPONENT:njn:2008-09</td>\n",
       "    </tr>\n",
       "    <tr>\n",
       "      <th>280</th>\n",
       "      <td>0.028039</td>\n",
       "      <td>-0.028039</td>\n",
       "      <td>SEASON_OPPONENT:min:2001-02</td>\n",
       "    </tr>\n",
       "    <tr>\n",
       "      <th>122</th>\n",
       "      <td>0.027978</td>\n",
       "      <td>-0.027978</td>\n",
       "      <td>SEASON_OPPONENT:den:2006-07</td>\n",
       "    </tr>\n",
       "    <tr>\n",
       "      <th>572</th>\n",
       "      <td>0.027827</td>\n",
       "      <td>0.027827</td>\n",
       "      <td>SHOT_ZONE_AREA:right_side_center(rc)</td>\n",
       "    </tr>\n",
       "    <tr>\n",
       "      <th>139</th>\n",
       "      <td>0.026543</td>\n",
       "      <td>0.026543</td>\n",
       "      <td>SEASON_OPPONENT:det:2005-06</td>\n",
       "    </tr>\n",
       "    <tr>\n",
       "      <th>261</th>\n",
       "      <td>0.026174</td>\n",
       "      <td>-0.026174</td>\n",
       "      <td>SEASON_OPPONENT:mil:2000-01</td>\n",
       "    </tr>\n",
       "    <tr>\n",
       "      <th>450</th>\n",
       "      <td>0.025246</td>\n",
       "      <td>0.025246</td>\n",
       "      <td>SEASON_OPPONENT:sas:2007-08</td>\n",
       "    </tr>\n",
       "    <tr>\n",
       "      <th>360</th>\n",
       "      <td>0.025216</td>\n",
       "      <td>-0.025216</td>\n",
       "      <td>SEASON_OPPONENT:orl:2009-10</td>\n",
       "    </tr>\n",
       "    <tr>\n",
       "      <th>25</th>\n",
       "      <td>0.025167</td>\n",
       "      <td>-0.025167</td>\n",
       "      <td>SEASON_OPPONENT:bos:2001-02</td>\n",
       "    </tr>\n",
       "    <tr>\n",
       "      <th>354</th>\n",
       "      <td>0.024508</td>\n",
       "      <td>0.024508</td>\n",
       "      <td>SEASON_OPPONENT:orl:2003-04</td>\n",
       "    </tr>\n",
       "    <tr>\n",
       "      <th>480</th>\n",
       "      <td>0.023658</td>\n",
       "      <td>0.023658</td>\n",
       "      <td>SEASON_OPPONENT:tor:2007-08</td>\n",
       "    </tr>\n",
       "    <tr>\n",
       "      <th>374</th>\n",
       "      <td>0.023490</td>\n",
       "      <td>0.023490</td>\n",
       "      <td>SEASON_OPPONENT:phi:2006-07</td>\n",
       "    </tr>\n",
       "    <tr>\n",
       "      <th>445</th>\n",
       "      <td>0.022636</td>\n",
       "      <td>-0.022636</td>\n",
       "      <td>SEASON_OPPONENT:sas:2002-03</td>\n",
       "    </tr>\n",
       "    <tr>\n",
       "      <th>418</th>\n",
       "      <td>0.021728</td>\n",
       "      <td>0.021728</td>\n",
       "      <td>SEASON_OPPONENT:por:2012-13</td>\n",
       "    </tr>\n",
       "    <tr>\n",
       "      <th>413</th>\n",
       "      <td>0.021659</td>\n",
       "      <td>0.021659</td>\n",
       "      <td>SEASON_OPPONENT:por:2007-08</td>\n",
       "    </tr>\n",
       "    <tr>\n",
       "      <th>31</th>\n",
       "      <td>0.021420</td>\n",
       "      <td>-0.021420</td>\n",
       "      <td>SEASON_OPPONENT:bos:2007-08</td>\n",
       "    </tr>\n",
       "    <tr>\n",
       "      <th>164</th>\n",
       "      <td>0.021417</td>\n",
       "      <td>0.021417</td>\n",
       "      <td>SEASON_OPPONENT:gsw:2011-12</td>\n",
       "    </tr>\n",
       "    <tr>\n",
       "      <th>602</th>\n",
       "      <td>0.019895</td>\n",
       "      <td>0.019895</td>\n",
       "      <td>ACTION_TYPE:fadeaway_jump_shot</td>\n",
       "    </tr>\n",
       "  </tbody>\n",
       "</table>\n",
       "<p>100 rows × 3 columns</p>\n",
       "</div>"
      ],
      "text/plain": [
       "     abs_coef      coef                                variable\n",
       "579  1.262795  1.262795            COMBINED_SHOT_TYPE:jump_shot\n",
       "574  0.832759  0.832759                SHOT_TYPE:2pt_field_goal\n",
       "566  0.467598  0.467598         SHOT_ZONE_BASIC:restricted_area\n",
       "611  0.282456 -0.282456                   ACTION_TYPE:jump_shot\n",
       "577  0.278330  0.278330                 COMBINED_SHOT_TYPE:dunk\n",
       "575  0.139793  0.139793                SHOT_TYPE:3pt_field_goal\n",
       "612  0.139640 -0.139640                  ACTION_TYPE:layup_shot\n",
       "423  0.139575  0.139575             SEASON_OPPONENT:sac:1999-00\n",
       "233  0.126999  0.126999             SEASON_OPPONENT:mem:2009-10\n",
       "549  0.124477 -0.124477                          SEASON:2015-16\n",
       "582  0.121452  0.121452                       SECONDS_REMAINING\n",
       "333  0.119605  0.119605             SEASON_OPPONENT:nyk:2008-09\n",
       "561  0.119385  0.119385       SHOT_ZONE_BASIC:above_the_break_3\n",
       "395  0.107130  0.107130             SEASON_OPPONENT:phx:2009-10\n",
       "466  0.104146  0.104146             SEASON_OPPONENT:sea:2004-05\n",
       "569  0.103135  0.103135                SHOT_ZONE_AREA:center(c)\n",
       "594  0.102962 -0.102962  ACTION_TYPE:driving_floating_jump_shot\n",
       "38   0.099189 -0.099189             SEASON_OPPONENT:bos:2015-16\n",
       "556  0.096413  0.096413               SHOT_ZONE_RANGE:16-24_ft.\n",
       "456  0.084225 -0.084225             SEASON_OPPONENT:sas:2014-15\n",
       "134  0.081115  0.081115             SEASON_OPPONENT:det:2000-01\n",
       "26   0.078682 -0.078682             SEASON_OPPONENT:bos:2002-03\n",
       "397  0.076795  0.076795             SEASON_OPPONENT:phx:2011-12\n",
       "548  0.075944 -0.075944                          SEASON:2014-15\n",
       "154  0.073424  0.073424             SEASON_OPPONENT:gsw:2001-02\n",
       "618  0.072698  0.072698           ACTION_TYPE:reverse_dunk_shot\n",
       "299  0.067646 -0.067646             SEASON_OPPONENT:njn:2002-03\n",
       "186  0.065932  0.065932             SEASON_OPPONENT:hou:2015-16\n",
       "143  0.065213  0.065213             SEASON_OPPONENT:det:2009-10\n",
       "609  0.064126  0.064126              ACTION_TYPE:jump_bank_shot\n",
       "..        ...       ...                                     ...\n",
       "314  0.032073 -0.032073             SEASON_OPPONENT:noh:2011-12\n",
       "307  0.031051  0.031051             SEASON_OPPONENT:njn:2011-12\n",
       "285  0.030787  0.030787             SEASON_OPPONENT:min:2006-07\n",
       "205  0.030711 -0.030711             SEASON_OPPONENT:ind:2015-16\n",
       "201  0.030649  0.030649             SEASON_OPPONENT:ind:2010-11\n",
       "541  0.030373  0.030373                          SEASON:2007-08\n",
       "531  0.029430 -0.029430                          SEASON:1997-98\n",
       "625  0.029309  0.029309           ACTION_TYPE:running_hook_shot\n",
       "213  0.029160  0.029160             SEASON_OPPONENT:lac:2003-04\n",
       "322  0.028862 -0.028862             SEASON_OPPONENT:nyk:1997-98\n",
       "453  0.028632 -0.028632             SEASON_OPPONENT:sas:2010-11\n",
       "137  0.028124 -0.028124             SEASON_OPPONENT:det:2003-04\n",
       "304  0.028051 -0.028051             SEASON_OPPONENT:njn:2008-09\n",
       "280  0.028039 -0.028039             SEASON_OPPONENT:min:2001-02\n",
       "122  0.027978 -0.027978             SEASON_OPPONENT:den:2006-07\n",
       "572  0.027827  0.027827    SHOT_ZONE_AREA:right_side_center(rc)\n",
       "139  0.026543  0.026543             SEASON_OPPONENT:det:2005-06\n",
       "261  0.026174 -0.026174             SEASON_OPPONENT:mil:2000-01\n",
       "450  0.025246  0.025246             SEASON_OPPONENT:sas:2007-08\n",
       "360  0.025216 -0.025216             SEASON_OPPONENT:orl:2009-10\n",
       "25   0.025167 -0.025167             SEASON_OPPONENT:bos:2001-02\n",
       "354  0.024508  0.024508             SEASON_OPPONENT:orl:2003-04\n",
       "480  0.023658  0.023658             SEASON_OPPONENT:tor:2007-08\n",
       "374  0.023490  0.023490             SEASON_OPPONENT:phi:2006-07\n",
       "445  0.022636 -0.022636             SEASON_OPPONENT:sas:2002-03\n",
       "418  0.021728  0.021728             SEASON_OPPONENT:por:2012-13\n",
       "413  0.021659  0.021659             SEASON_OPPONENT:por:2007-08\n",
       "31   0.021420 -0.021420             SEASON_OPPONENT:bos:2007-08\n",
       "164  0.021417  0.021417             SEASON_OPPONENT:gsw:2011-12\n",
       "602  0.019895  0.019895          ACTION_TYPE:fadeaway_jump_shot\n",
       "\n",
       "[100 rows x 3 columns]"
      ]
     },
     "execution_count": 49,
     "metadata": {},
     "output_type": "execute_result"
    }
   ],
   "source": [
    "lasso_coefs = pd.DataFrame({'variable':X.columns,\n",
    "                            'coef':lasso.coef_,\n",
    "                            'abs_coef': abs(lasso.coef_)})\n",
    "\n",
    "lasso_coefs.sort_values('abs_coef', inplace=True, ascending=False)\n",
    "\n",
    "lasso_coefs.head(100)"
   ]
  },
  {
   "cell_type": "code",
   "execution_count": 28,
   "metadata": {},
   "outputs": [
    {
     "name": "stdout",
     "output_type": "stream",
     "text": [
      "Percent variables zeroed out: 0.306803594352\n"
     ]
    }
   ],
   "source": [
    "print('Percent variables zeroed out:', np.sum((lasso.coef_ == 0))/float(X.shape[0]))\n"
   ]
  },
  {
   "cell_type": "markdown",
   "metadata": {},
   "source": [
    "---\n",
    "\n",
    "### 10) Find an optimal value for elastic net regression alpha using `ElasticNetCV`.\n",
    "\n",
    "Go to the documentation and [read how ElasticNetCV works](http://scikit-learn.org/stable/modules/generated/sklearn.linear_model.ElasticNetCV.html).\n",
    "\n",
    "Note that here you'll be optimizing both the alpha parameter and the l1_ratio:\n",
    "- `alpha`: Strength of regularization.\n",
    "- `l1_ratio`: Amount of ridge vs. lasso (0 = all ridge, 1 = all lasso).\n",
    "    \n",
    "Do not include 0 in the search for `l1_ratio` — it won't allow it and will break.\n",
    "\n",
    "You can use `n_alphas` for the alpha parameters instead of setting your own values, which we highly recommend.\n",
    "\n",
    "Also, be careful setting too many l1_ratios over cross-validation folds in your search. It can take a long time if you choose too many combinations and, for the most part, there are diminishing returns in this data."
   ]
  },
  {
   "cell_type": "code",
   "execution_count": 56,
   "metadata": {
    "scrolled": true
   },
   "outputs": [
    {
     "name": "stderr",
     "output_type": "stream",
     "text": [
      "/Users/heatherrobbins/anaconda/envs/py36/lib/python3.6/site-packages/sklearn/linear_model/coordinate_descent.py:491: ConvergenceWarning: Objective did not converge. You might want to increase the number of iterations. Fitting data with very small alpha may cause precision problems.\n",
      "  ConvergenceWarning)\n"
     ]
    },
    {
     "name": "stdout",
     "output_type": "stream",
     "text": [
      "0.0830001083219\n",
      "1.0\n"
     ]
    }
   ],
   "source": [
    "ratios  = np.linspace(0.01, 1.0, 25)\n",
    "\n",
    "optimal_enet = ElasticNetCV(l1_ratio=ratios, n_alphas=5, cv=2,\n",
    "                            verbose=0)\n",
    "optimal_enet.fit(Xs, y)\n",
    "\n",
    "print(optimal_enet.alpha_)\n",
    "print(optimal_enet.l1_ratio_)\n"
   ]
  },
  {
   "cell_type": "markdown",
   "metadata": {},
   "source": [
    "---\n",
    "\n",
    "### 11) Cross-validate the elastic net $R^2$ with the optimal alpha and l1_ratio.\n",
    "\n",
    "How does it compare to the ridge and lasso regularized regressions?"
   ]
  },
  {
   "cell_type": "code",
   "execution_count": 57,
   "metadata": {},
   "outputs": [
    {
     "name": "stdout",
     "output_type": "stream",
     "text": [
      "[ 0.60500347  0.52643041  0.53918948  0.60872919  0.5491681   0.55397171\n",
      "  0.52265992  0.44770406  0.46442362  0.52614891]\n",
      "0.53434288777\n"
     ]
    }
   ],
   "source": [
    "enet = ElasticNet(alpha=optimal_enet.alpha_, l1_ratio=optimal_enet.l1_ratio_)\n",
    "\n",
    "enet_scores = cross_val_score(enet, Xs, y, cv=10)\n",
    "\n",
    "print(enet_scores)\n",
    "print(np.mean(enet_scores))"
   ]
  },
  {
   "cell_type": "code",
   "execution_count": null,
   "metadata": {
    "collapsed": true
   },
   "outputs": [],
   "source": [
    "# It performs about the same as lasso, which is to be expected given the\n",
    "# l1_ration approaching 1 (full lasso)."
   ]
  },
  {
   "cell_type": "markdown",
   "metadata": {},
   "source": [
    "---\n",
    "\n",
    "### 12. [Bonus] Compare the residuals for ridge and lasso visually.\n"
   ]
  },
  {
   "cell_type": "code",
   "execution_count": 58,
   "metadata": {},
   "outputs": [
    {
     "data": {
      "text/plain": [
       "Lasso(alpha=0.057648392525239053, copy_X=True, fit_intercept=True,\n",
       "   max_iter=1000, normalize=False, positive=False, precompute=False,\n",
       "   random_state=None, selection='cyclic', tol=0.0001, warm_start=False)"
      ]
     },
     "execution_count": 58,
     "metadata": {},
     "output_type": "execute_result"
    }
   ],
   "source": [
    "ridge.fit(Xs, y)\n",
    "lasso.fit(Xs, y)"
   ]
  },
  {
   "cell_type": "code",
   "execution_count": 59,
   "metadata": {
    "collapsed": true
   },
   "outputs": [],
   "source": [
    "# Model residuals:\n",
    "\n",
    "ridge_resid = y - ridge.predict(Xs)\n",
    "lasso_resid = y - lasso.predict(Xs)\n",
    "\n"
   ]
  },
  {
   "cell_type": "code",
   "execution_count": 60,
   "metadata": {},
   "outputs": [
    {
     "data": {
      "text/plain": [
       "<seaborn.axisgrid.JointGrid at 0x11891d668>"
      ]
     },
     "execution_count": 60,
     "metadata": {},
     "output_type": "execute_result"
    },
    {
     "data": {
      "image/png": "[encoded data removed]",
      "text/plain": [
       "<matplotlib.figure.Figure at 0x11891deb8>"
      ]
     },
     "metadata": {
      "image/png": {
       "height": 424,
       "width": 423
      }
     },
     "output_type": "display_data"
    }
   ],
   "source": [
    "sns.jointplot(ridge_resid, lasso_resid)"
   ]
  },
  {
   "cell_type": "code",
   "execution_count": null,
   "metadata": {
    "collapsed": true
   },
   "outputs": [],
   "source": []
  }
 ],
 "metadata": {
  "kernelspec": {
   "display_name": "Python 3",
   "language": "python",
   "name": "python3"
  },
  "language_info": {
   "codemirror_mode": {
    "name": "ipython",
    "version": 3
   },
   "file_extension": ".py",
   "mimetype": "text/x-python",
   "name": "python",
   "nbconvert_exporter": "python",
   "pygments_lexer": "ipython3",
   "version": "3.6.1"
  }
 },
 "nbformat": 4,
 "nbformat_minor": 1
}
