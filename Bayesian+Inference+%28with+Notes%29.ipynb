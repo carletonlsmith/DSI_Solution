{
 "cells": [
  {
   "cell_type": "code",
   "execution_count": 1,
   "metadata": {
    "collapsed": true
   },
   "outputs": [],
   "source": [
    "# goal: learn about some population\n",
    "    \n",
    "#     - so we have our population, and take a sample of it to calculate statistics (sample mean, sample std, etc) to then\n",
    "#     conduct inference on parameters (population mean, population std, etc) \n",
    "#     we can then use that parameter to learn about the population\n",
    "    \n",
    "#     - measurement on a population is a parameter\n",
    "#     - measurement on a sample is called a statistic"
   ]
  },
  {
   "cell_type": "code",
   "execution_count": 2,
   "metadata": {
    "collapsed": true
   },
   "outputs": [],
   "source": [
    "# frequentists: interpret probability based on long term behavior \n",
    "#         times something happens/#number of trials"
   ]
  },
  {
   "cell_type": "code",
   "execution_count": 3,
   "metadata": {
    "collapsed": true
   },
   "outputs": [],
   "source": [
    "# bayesian: degrees of belief - how likely we believe this event to occur"
   ]
  },
  {
   "cell_type": "code",
   "execution_count": 4,
   "metadata": {
    "collapsed": true
   },
   "outputs": [],
   "source": [
    "# 'long-run behavior' doesn't always make sense'\n",
    "# bayesian stats feels more subjective (degrees of belief) - data science is full of subjective decisions\n",
    "\n",
    "# bayesian inference allows us to incorporate our data and prior knowledge"
   ]
  },
  {
   "cell_type": "code",
   "execution_count": 5,
   "metadata": {
    "collapsed": true
   },
   "outputs": [],
   "source": [
    "# frequentis treat the the population mean as fixed while bayesian stats treat it as a parameter with a distribution (ie mu ~ N(64, 2))"
   ]
  },
  {
   "cell_type": "code",
   "execution_count": 6,
   "metadata": {
    "collapsed": true
   },
   "outputs": [],
   "source": [
    "# # frequentists use:\n",
    "#     confidence intervals, hypothesis testing, 95%. (a,b)\n",
    "#     i am 95% confident that the population parameter is between a and b\n",
    "\n",
    "# Bayesian-  \n",
    "\n",
    "# credible interval: there is a 95% chance that the population parameter is between a and b"
   ]
  },
  {
   "cell_type": "code",
   "execution_count": 7,
   "metadata": {
    "collapsed": true
   },
   "outputs": [],
   "source": [
    "# frequentist stats: p-value\n",
    "#     p-value = P(Z >= z assuming our null hypothesis is true (where Z is a random variable and z is the z-score from current experiment)\n",
    "                \n",
    "# Frequentist goal:  gives us the probability that this would be our data given that our hypothsis is true"
   ]
  },
  {
   "cell_type": "code",
   "execution_count": 8,
   "metadata": {
    "collapsed": true
   },
   "outputs": [],
   "source": [
    "# goal (Bayes): what is the probability that our hypothesis is true given our data"
   ]
  },
  {
   "cell_type": "code",
   "execution_count": 9,
   "metadata": {
    "collapsed": true
   },
   "outputs": [],
   "source": [
    "# distribution: the set of all possible values of a variable and how likely it is to observe each value"
   ]
  },
  {
   "cell_type": "code",
   "execution_count": 10,
   "metadata": {
    "collapsed": true
   },
   "outputs": [],
   "source": [
    "# theta is the parameter we want to learn about\n",
    "# y is our data"
   ]
  },
  {
   "cell_type": "code",
   "execution_count": 11,
   "metadata": {
    "collapsed": true
   },
   "outputs": [],
   "source": [
    "# the posterior distribution is f of theta given y and represents all possible values of theta and how frequently we observe each of these values, given the data we've observed'"
   ]
  },
  {
   "cell_type": "code",
   "execution_count": 12,
   "metadata": {
    "collapsed": true
   },
   "outputs": [],
   "source": [
    "# f of theta - the prior distribution of theta (prior is before looking at data\n",
    "#                                              f of y given theta is the likelihood of observing data y under some modelb)"
   ]
  },
  {
   "cell_type": "code",
   "execution_count": 13,
   "metadata": {
    "collapsed": true
   },
   "outputs": [],
   "source": [
    "# our posterior is =  our prior * our likelihood"
   ]
  },
  {
   "cell_type": "code",
   "execution_count": 14,
   "metadata": {
    "collapsed": true
   },
   "outputs": [],
   "source": [
    "# frequentism has a prior that is just a uniform distribution from negative to positive infitiy - its entirely flat and has zero influence on our model"
   ]
  },
  {
   "cell_type": "code",
   "execution_count": 15,
   "metadata": {
    "collapsed": true
   },
   "outputs": [],
   "source": [
    "# we can't always get a nice form for the posterior distribution"
   ]
  },
  {
   "cell_type": "code",
   "execution_count": null,
   "metadata": {
    "collapsed": true
   },
   "outputs": [],
   "source": []
  },
  {
   "cell_type": "markdown",
   "metadata": {},
   "source": [
    "## Lesson: Bayesian Inference\n",
    "\n",
    "> Author: Matt Brems"
   ]
  },
  {
   "cell_type": "markdown",
   "metadata": {},
   "source": [
    "Suppose I want to use your biological parents' heights to predict your height as an adult.\n",
    "- $Y$: your height.\n",
    "- $X$: the average of your biological parents' heights.\n",
    "\n",
    "I want to fit a simple linear regression model $Y = \\beta_0 + \\beta_1X$. Let's try to infer reasonable values of $\\beta_1$.\n",
    "\n",
    "In frequentist inference, we let the data speak for itself.\n",
    "- If fitting a simple linear regression model $Y = \\beta_0 + \\beta_1X$, our \"prior knowledge\" about $\\beta_1$ is that $\\beta_1$ equally likely to be anywhere between $-\\infty$ and $+\\infty$. (In effect, there is **no prior knowledge**.)\n",
    "\n",
    "In Bayesian inference, we allow ourselves to include prior knowledge in the decision-making process.\n",
    "- If fitting a simple linear regression model $Y = \\beta_0 + \\beta_1X$, maybe we believe that $\\beta_1$ can reasonably only be between 0.8 and 1.2. We could select a Uniform(0.8, 1.2) prior or a Normal(1.0, 0.1) prior.\n",
    "\n",
    "### Why Bayes?\n",
    "- We can easily estimate $P(\\text{hypothesis}|\\text{data})$, which is what we want to learn about!\n",
    "- Just like scientific reasoning and research builds on previous research, **we can use our understanding of the world around us to better inform our inference** rather than to pretend like we need to start from scratch every time!\n",
    "- Every modeling choice we make is subjective! Selecting a prior isn't more or less subjective than removing a variable, adding an interaction term, imputing a certain value, etc. etc."
   ]
  },
  {
   "cell_type": "markdown",
   "metadata": {},
   "source": [
    "## But how do I pick a prior distribution and a likelihood?\n",
    "\n",
    "Recall that a **distribution** is the set of all possible values of a variable and how frequently we observe each of the values.\n",
    "\n",
    "Let's say that I find a coin on the ground. We'll let our unknown probability of flipping heads be $p$.\n",
    "\n",
    "**Our goal, as will always be the case in Bayesian inference, is to find the posterior distribution of our unknown parameter. In this case, we want to find the posterior distribution of $p$, which is based on data we've observed and our prior beliefs.**\n",
    "\n",
    "$$\n",
    "\\begin{eqnarray*}\n",
    "\\text{posterior} &\\propto& \\text{prior } \\times \\text{likelihood} \\\\\n",
    "&& \\\\\n",
    "f(p|\\text{data}) &\\propto& f(p) \\times f(\\text{data}|p)\n",
    "\\end{eqnarray*}\n",
    "$$\n",
    "\n",
    "\n",
    "### Selecting a prior distribution\n",
    "\n",
    "Our posterior is a combination of our prior and our likelihood (data)!\n",
    "- If our prior beliefs are too strong, then our posterior will be \"dominated\" by our prior.\n",
    "- If our prior beliefs are too vague, then our posterior will be \"dominated\" by our data.\n",
    "\n",
    "For the rest of the lesson, we'll go through how to choose a prior distribution and a likelihood for $p$, then visualize the impacts on $p$.\n",
    "\n",
    "We want to construct a prior distribution for $p$. This prior distribution should summarize our beliefs about $p$ **before seeing any data**. If we know that $p$ must be between 0 and 1, then we should construct a prior distribution that reflects this knowledge.\n",
    "\n",
    "Suppose you and I have pretty strong beliefs that $p$, the probability of flipping heads, should be 0.5. It's possible that $p$ might be a bit less than 0.5 or a bit more than 0.5.\n",
    "- A very convenient distribution for this type of problem is called the [Beta distribution](https://en.wikipedia.org/wiki/Beta_distribution). The Beta distribution is a continuous distribution bound between 0 and 1. Since probabilities can take on any value between 0 and 1, we often use the Beta distribution when trying to describe our beliefs about probabilities."
   ]
  },
  {
   "cell_type": "code",
   "execution_count": 26,
   "metadata": {
    "collapsed": true
   },
   "outputs": [],
   "source": [
    "# Import the necessary packages:\n",
    "\n",
    "import numpy as np\n",
    "import matplotlib.pyplot as plt\n",
    "from scipy.stats import beta\n",
    "\n",
    "%matplotlib inline"
   ]
  },
  {
   "cell_type": "markdown",
   "metadata": {},
   "source": [
    "The Beta distribution is parameterized by $\\alpha$ and $\\beta$, much like the Normal distribution is parameterized by $\\mu$ and $\\sigma$.\n",
    "\n",
    "Let's plot a Beta distribution with parameters $\\alpha = 100$ and $\\beta = 100$, and look at it.\n",
    "- In code, we often use `a` and `b` as the arguments because `alpha` is such a common argument in functions and we don't want to confuse the Beta distribution with a `beta` argument for the Beta distribution."
   ]
  },
  {
   "cell_type": "code",
   "execution_count": 35,
   "metadata": {
    "collapsed": true
   },
   "outputs": [],
   "source": [
    "# Define our alpha and beta parameters:\n",
    "a = 100\n",
    "b = 500"
   ]
  },
  {
   "cell_type": "code",
   "execution_count": 36,
   "metadata": {
    "collapsed": true
   },
   "outputs": [],
   "source": [
    "# This is the 0th percentile of our beta distribution:\n",
    "\n",
    "lower = beta.ppf(0, a, b)\n",
    "\n",
    "# This is the 100th percentile of our beta distribution:\n",
    "\n",
    "upper = beta.ppf(1, a, b)"
   ]
  },
  {
   "cell_type": "code",
   "execution_count": 37,
   "metadata": {
    "collapsed": true
   },
   "outputs": [],
   "source": [
    "# Generate 100 x values in the appropriate\n",
    "# range to use for plotting:\n",
    "\n",
    "x = np.linspace(lower, upper, 100)"
   ]
  },
  {
   "cell_type": "code",
   "execution_count": 38,
   "metadata": {},
   "outputs": [
    {
     "data": {
      "image/png": "[encoded data removed]",
      "text/plain": [
       "<matplotlib.figure.Figure at 0x11c9a76d8>"
      ]
     },
     "metadata": {},
     "output_type": "display_data"
    }
   ],
   "source": [
    "plt.plot(x, beta(a,b).pdf(x),\n",
    "         'b-', lw = 2)\n",
    "\n",
    "# Plot customization:\n",
    "plt.ylabel('Density', fontsize = 14)\n",
    "plt.xlim((0,1))\n",
    "plt.xlabel('Values of p', fontsize = 14)\n",
    "plt.title(r'Beta($\\alpha=100$,$\\beta=100$)', fontsize = 18);\n"
   ]
  },
  {
   "cell_type": "markdown",
   "metadata": {},
   "source": [
    "Take four minutes to explore the Beta distribution. Try to answer some of the following questions:\n",
    "- As `a` increases, what happens?\n",
    "- As `b` increases, what happens?\n",
    "- Under what circumstances will the Beta distribution be symmetric?\n",
    "- If I wanted a perfectly flat Beta distribution, what values of `a` and `b` would you select?\n",
    "- If I wanted a Beta distribution that was centered at exactly 50% and had very little variance (almost all of the density is on exactly 50%), what values of `a` and `b` would you select?"
   ]
  },
  {
   "cell_type": "markdown",
   "metadata": {},
   "source": [
    "### Selecting a likelihood\n",
    "\n",
    "Our posterior is a combination of our prior and our likelihood (data)!\n",
    "\n",
    "We want to construct a likelihood function for $\\text{data}|p$. We are saying, \"For every possible value of $p$, how likely is it that we observe this data?\"\n",
    "\n",
    "The likelihood function should model how the data are generated.\n",
    "\n",
    "<details><summary>If I flip a fixed number of coins, what distribution should I use to model the number of heads?</summary>\n",
    "A binomial distribution is probably the best model to use.\n",
    "</details>\n",
    "\n",
    "Suppose I flip my coin ten times and observe exactly 8 heads."
   ]
  },
  {
   "cell_type": "code",
   "execution_count": 40,
   "metadata": {},
   "outputs": [
    {
     "data": {
      "image/png": "[encoded data removed]",
      "text/plain": [
       "<matplotlib.figure.Figure at 0x11ce13a20>"
      ]
     },
     "metadata": {},
     "output_type": "display_data"
    }
   ],
   "source": [
    "#  Import package.\n",
    "from scipy.stats import binom\n",
    "\n",
    "# Define x range.\n",
    "x = np.linspace(0, 1, 100)\n",
    "\n",
    "# likelihood_pmfs = [stats.binom(n = total, p = p).pmf(orourke) for p in percentages_for_plotting_x_axes]\n",
    "# Generate likelihood function.\n",
    "y = [binom(10, i).pmf(8) for i in x]\n",
    "\n",
    "# Plot likelihood function.\n",
    "plt.plot(x,y)\n",
    "\n",
    "# Plot customization.\n",
    "plt.ylabel('Likelihood', fontsize = 14)\n",
    "plt.xlim((0,1))\n",
    "plt.xlabel('Values of p', fontsize = 14)\n",
    "plt.title(r'Binomial likelihood with $n=10$, $k=8$', fontsize = 18);"
   ]
  },
  {
   "cell_type": "code",
   "execution_count": 42,
   "metadata": {},
   "outputs": [
    {
     "data": {
      "image/png": "[encoded data removed]",
      "text/plain": [
       "<matplotlib.figure.Figure at 0x11cee8080>"
      ]
     },
     "metadata": {},
     "output_type": "display_data"
    }
   ],
   "source": [
    "#  Import package.\n",
    "from scipy.stats import binom\n",
    "\n",
    "# Define x range.\n",
    "x = np.linspace(0, 1, 100)\n",
    "\n",
    "# Generate likelihood function.\n",
    "y = [binom(n = 100000, p = i).pmf(50000) for i in x]\n",
    "\n",
    "# Plot likelihood function.\n",
    "plt.plot(x,y)\n",
    "\n",
    "# Plot customization.\n",
    "plt.ylabel('Likelihood', fontsize = 14)\n",
    "plt.xlim((0,1))\n",
    "plt.xlabel('Values of p', fontsize = 14)\n",
    "plt.title(r'Binomial likelihood with $n=100000$, $k=80000$', fontsize = 18);"
   ]
  },
  {
   "cell_type": "code",
   "execution_count": 43,
   "metadata": {
    "collapsed": true
   },
   "outputs": [],
   "source": [
    "# binomial distribution is a discrete distribution"
   ]
  },
  {
   "cell_type": "markdown",
   "metadata": {},
   "source": [
    "Note that my likelihood isn't dependent on my prior. **My likelihood only depends on my data!**\n",
    "\n",
    "### The Binomial distribution is discrete. Why is my likelihood continuous??\n",
    "Our likelihood function is showing, \"For every possible value of $p$, how likely is it that we observe this data?\"\n",
    "\n",
    "When we talked about the Binomial distribution before, we imagined that the probability of success $p$ was fixed and known. We then looked at how likely it was to observe 8 heads given some fixed value of $p$.\n",
    "\n",
    "In Bayesian analysis, we've observed the data... now we're trying to learn about $p$! Given the data we've observed, how likely is it that $p$ takes on the value of 0, of 0.01, of 0.02, and so on?\n",
    "\n",
    "<details><summary>Why do we observe a peak around 0.8 here?</summary>\n",
    "Because flipped our coin ten times and saw eight heads! It makes sense that the likeliest value for our parameter $p$ is 80%, since we saw heads 80% of the time!</details>\n",
    "\n",
    "You might say that $p=0.8$ **maximizes our likelihood**... more on this in a later lesson!"
   ]
  },
  {
   "cell_type": "markdown",
   "metadata": {},
   "source": [
    "Take four minutes to explore the likelihood. Try to answer some of the following questions:\n",
    "- As `k`, your number of successes, increases, what happens?\n",
    "- As `n`, your number of trials, increases, what happens?\n",
    "- Under what circumstances will the likelihood be symmetric?\n",
    "- Suppose that instead of getting 7 heads out of 10 coins, you got 7000 heads out of 10000 flips. How does this influence your likelihood?"
   ]
  },
  {
   "cell_type": "markdown",
   "metadata": {},
   "source": [
    "### Simulating our posterior"
   ]
  },
  {
   "cell_type": "code",
   "execution_count": null,
   "metadata": {
    "collapsed": true
   },
   "outputs": [],
   "source": [
    "## We want to vary p from 0 to 1.\n",
    "\n",
    "## Set up prior.\n",
    "\n",
    "\n",
    "## Set up likelihood.\n",
    "\n",
    "\n",
    "## Calculate posterior based on prior and likelihood.\n",
    "\n",
    "\n",
    "## Plot prior, likelihood, and posterior.\n"
   ]
  },
  {
   "cell_type": "code",
   "execution_count": 22,
   "metadata": {
    "collapsed": true
   },
   "outputs": [],
   "source": [
    "def plot_beta_binomial(a, b, n_trials, n_successes, n_steps = 100):\n",
    "    lst = np.linspace(0, 1, n_steps)\n",
    "    \n",
    "    ## Calculating prior, likelihood, and posterior.\n",
    "    prior = [beta(a, b).pdf(i) for i in lst]\n",
    "    likelihood = [binom(n_trials,i).pmf(k = n_successes) for i in lst]\n",
    "    posterior = np.multiply(prior, likelihood)\n",
    "    \n",
    "    ## Plotting colored lines here to show prior mode, the maximum likelihood value, and posterior mode.\n",
    "    plt.vlines([(a - 1) / (a + b - 2), n_successes / n_trials, (a + n_successes) / (a + b + n_trials)],\n",
    "               ymin = 0,\n",
    "               ymax = max(max(prior),max(likelihood), max(posterior)), # height of dotted lines\n",
    "               linestyles = 'dashed',\n",
    "               colors = ['tab:orange', 'tab:green', 'tab:blue'])\n",
    "    \n",
    "    ## Plotting prior, likelihood, and posterior.\n",
    "    plt.title(\"Prior, Likelihood, and Posterior\")\n",
    "    plt.plot(lst, prior, c = 'tab:orange');\n",
    "    plt.plot(lst, likelihood, c = 'tab:green');\n",
    "    plt.plot(lst, posterior, c = 'tab:blue');"
   ]
  },
  {
   "cell_type": "code",
   "execution_count": 23,
   "metadata": {},
   "outputs": [
    {
     "data": {
      "image/png": "[encoded data removed]",
      "text/plain": [
       "<matplotlib.figure.Figure at 0x113778748>"
      ]
     },
     "metadata": {},
     "output_type": "display_data"
    }
   ],
   "source": [
    "plot_beta_binomial(a =3, b =3, n_trials =10, n_successes =8)"
   ]
  },
  {
   "cell_type": "markdown",
   "metadata": {},
   "source": [
    "Experiment with this function.\n",
    "- Pick the vaguest, flattest prior you can! How does this affect our posterior?\n",
    "- Pick a very, very specific prior that has almost all of its weight on 0.5. How does this affect your posterior?\n",
    "- Try three or four different values of `a` and `b` in your Beta distribution. How do those influence your prior? Your posterior?\n",
    "- Suppose that instead of getting 7 heads out of 10 coins, you got 7000 heads out of 10000 flips. How does this influence your likelihood? Your posterior?"
   ]
  },
  {
   "cell_type": "code",
   "execution_count": null,
   "metadata": {
    "collapsed": true
   },
   "outputs": [],
   "source": []
  },
  {
   "cell_type": "code",
   "execution_count": null,
   "metadata": {
    "collapsed": true
   },
   "outputs": [],
   "source": []
  },
  {
   "cell_type": "code",
   "execution_count": null,
   "metadata": {
    "collapsed": true
   },
   "outputs": [],
   "source": []
  }
 ],
 "metadata": {
  "kernelspec": {
   "display_name": "Python 3",
   "language": "python",
   "name": "python3"
  },
  "language_info": {
   "codemirror_mode": {
    "name": "ipython",
    "version": 3
   },
   "file_extension": ".py",
   "mimetype": "text/x-python",
   "name": "python",
   "nbconvert_exporter": "python",
   "pygments_lexer": "ipython3",
   "version": "3.6.1"
  }
 },
 "nbformat": 4,
 "nbformat_minor": 2
}
